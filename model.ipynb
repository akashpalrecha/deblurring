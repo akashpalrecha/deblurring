{
 "cells": [
  {
   "cell_type": "code",
   "execution_count": 1,
   "metadata": {},
   "outputs": [],
   "source": [
    "%reload_ext autoreload\n",
    "%autoreload 2\n",
    "%config Completer.use_jedi=False"
   ]
  },
  {
   "cell_type": "code",
   "execution_count": 2,
   "metadata": {},
   "outputs": [],
   "source": [
    "import torch\n",
    "import pytorch_lightning as pl\n",
    "from data import *\n",
    "# from pytorch_msssim import ssim\n",
    "# from kornia.losses import PSNRLoss, SSIM\n",
    "from pytorch_lightning.metrics.functional import psnr\n",
    "from pytorch_lightning.metrics.regression import SSIM\n",
    "from pytorch_lightning.loggers import TensorBoardLogger"
   ]
  },
  {
   "cell_type": "code",
   "execution_count": 4,
   "metadata": {},
   "outputs": [],
   "source": [
    "class DeblurModelBase(pl.LightningModule):\n",
    "    def __init__(self, data_module:DeblurDataModule, lr:float=0.001):\n",
    "        self.data_module  = data_module\n",
    "        self.transforms   = self.data_module.transforms\n",
    "        self.loss_func    = torch.nn.MSELoss()\n",
    "        self.metrics      = [(psnr, 'PSNR'), (SSIM(kernel_size=5), 'SSIM')]\n",
    "        self.model_config = None\n",
    "        self.lr           = lr\n",
    "        \n",
    "    def training_step(self, batch, batch_idx):\n",
    "        x, y   = augment_image_pair(batch, self.transforms)\n",
    "        out    = self(x)\n",
    "        loss   = self.loss_func(out, y)\n",
    "        result = pl.TrainResult(loss)\n",
    "        \n",
    "        # Log results to progress bar and logger\n",
    "        result.log('train_loss', loss, on_step=True, on_epoch=True,\n",
    "                   progress_bar=True, logger=True, sync_dist=True)\n",
    "        \n",
    "        return result\n",
    "    \n",
    "    def validation_step(self, batch, batch_idx):\n",
    "        x, y = augment_image_pair(batch, [self.transforms[0]]) # Only apply resize\n",
    "        out  = self(x)\n",
    "        loss = self.loss_func(out, y)\n",
    "        result = pl.EvalResult(checkpoint_on=loss)\n",
    "        log_dict = {'val_loss': loss}\n",
    "        \n",
    "        # Calculate metrics like PSNR, SSIM, etc.\n",
    "        if self.metrics:\n",
    "            out = self.data_module.denormalize_func(out).clamp(0.0, 1.0)\n",
    "            y   = self.data_module.denormalize_func(y).clamp(0.0, 1.0)\n",
    "            for metric in self.metrics:\n",
    "                log_dict[metric[1]] = metric[0](out, y)\n",
    "                \n",
    "        result.log_dict(log_dict, on_step=False, on_epoch=True, \n",
    "                        prog_bar=True, logger=True, sync_dist=True)\n",
    "        \n",
    "        return result\n",
    "    \n",
    "    def configure_optimizers(self):\n",
    "        return torch.optim.Adam(self.parameters(), lr=self.lr)\n",
    "    \n",
    "    def forward(self, x):\n",
    "        raise NotImplementedError"
   ]
  },
  {
   "cell_type": "code",
   "execution_count": 5,
   "metadata": {},
   "outputs": [],
   "source": [
    "class SampleModel(DeblurModelBase):\n",
    "    def __init__(self, data_module:DeblurDataModule, lr:float=0.001):\n",
    "        super(SampleModel, self).__init__(data_module, lr)\n",
    "        self.a = torch.nn.Parameter(data=torch.tensor(1.0))\n",
    "    \n",
    "    def forward(self, x):\n",
    "        return self.a * x"
   ]
  },
  {
   "cell_type": "code",
   "execution_count": null,
   "metadata": {},
   "outputs": [],
   "source": []
  }
 ],
 "metadata": {
  "kernelspec": {
   "display_name": "Python 3",
   "language": "python",
   "name": "python3"
  },
  "language_info": {
   "codemirror_mode": {
    "name": "ipython",
    "version": 3
   },
   "file_extension": ".py",
   "mimetype": "text/x-python",
   "name": "python",
   "nbconvert_exporter": "python",
   "pygments_lexer": "ipython3",
   "version": "3.7.0"
  },
  "toc": {
   "base_numbering": 1,
   "nav_menu": {},
   "number_sections": true,
   "sideBar": true,
   "skip_h1_title": false,
   "title_cell": "Table of Contents",
   "title_sidebar": "Contents",
   "toc_cell": false,
   "toc_position": {},
   "toc_section_display": true,
   "toc_window_display": false
  },
  "varInspector": {
   "cols": {
    "lenName": 16,
    "lenType": 16,
    "lenVar": 40
   },
   "kernels_config": {
    "python": {
     "delete_cmd_postfix": "",
     "delete_cmd_prefix": "del ",
     "library": "var_list.py",
     "varRefreshCmd": "print(var_dic_list())"
    },
    "r": {
     "delete_cmd_postfix": ") ",
     "delete_cmd_prefix": "rm(",
     "library": "var_list.r",
     "varRefreshCmd": "cat(var_dic_list()) "
    }
   },
   "types_to_exclude": [
    "module",
    "function",
    "builtin_function_or_method",
    "instance",
    "_Feature"
   ],
   "window_display": false
  }
 },
 "nbformat": 4,
 "nbformat_minor": 4
}
